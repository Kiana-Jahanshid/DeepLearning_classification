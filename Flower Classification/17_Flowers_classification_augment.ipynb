{
  "cells": [
    {
      "cell_type": "code",
      "execution_count": 1,
      "metadata": {
        "id": "1yIGlLgtLxFV"
      },
      "outputs": [],
      "source": [
        "import cv2\n",
        "import numpy as np\n",
        "import tensorflow as tf\n",
        "import keras,os\n",
        "from keras.models import Sequential\n",
        "from keras.layers import Dense, Conv2D, MaxPool2D , Flatten\n",
        "from tensorflow.keras import layers\n",
        "from tensorflow.keras import models\n",
        "from tensorflow.keras.preprocessing.image import ImageDataGenerator\n",
        "import matplotlib.pyplot as plt\n",
        "from sklearn.metrics import confusion_matrix , ConfusionMatrixDisplay\n",
        "from dotenv import load_dotenv\n",
        "from os import environ as env\n"
      ]
    },
    {
      "cell_type": "code",
      "execution_count": 2,
      "metadata": {
        "colab": {
          "base_uri": "https://localhost:8080/"
        },
        "id": "y69vh_WVd8iW",
        "outputId": "1edf9170-f40c-4998-e576-5aa68f42b7f5"
      },
      "outputs": [
        {
          "name": "stdout",
          "output_type": "stream",
          "text": [
            "Mounted at /content/drive\n"
          ]
        }
      ],
      "source": [
        "from google.colab import drive\n",
        "drive.mount('/content/drive')"
      ]
    },
    {
      "cell_type": "code",
      "execution_count": 3,
      "metadata": {
        "id": "RdiukT4fSq5K"
      },
      "outputs": [],
      "source": [
        "dataset_train = \"/content/drive/MyDrive/17flowers/train\"\n",
        "dataset_test = \"/content/drive/MyDrive/17flowers/test\""
      ]
    },
    {
      "cell_type": "code",
      "execution_count": 4,
      "metadata": {
        "colab": {
          "base_uri": "https://localhost:8080/"
        },
        "id": "3PvX6KmAWdxr",
        "outputId": "728c67b8-6959-43a7-9485-410bbd5ba0e3"
      },
      "outputs": [
        {
          "name": "stdout",
          "output_type": "stream",
          "text": [
            "Found 823 images belonging to 17 classes.\n",
            "Found 65 images belonging to 17 classes.\n"
          ]
        }
      ],
      "source": [
        "#Augmentation  --> im\n",
        "img_data_generator = ImageDataGenerator(\n",
        "\n",
        "    rotation_range=10,\n",
        "    width_shift_range=0.3,\n",
        "    height_shift_range=0.3,\n",
        "    shear_range=0.3,\n",
        "    zoom_range=0.3,\n",
        "    horizontal_flip=True,\n",
        "    vertical_flip=False,\n",
        "    rescale=1./255,           #normalization - divide each pixels into 255\n",
        "    validation_split=0.2,\n",
        ")\n",
        "\n",
        "\n",
        "train_dataset = img_data_generator.flow_from_directory(\n",
        "    dataset_train,\n",
        "    shuffle=True,\n",
        "    #save_to_dir=\"/content/drive/MyDrive/aug\" ,\n",
        "    subset=\"training\",\n",
        "    target_size=(224,224)\n",
        ")\n",
        "\n",
        "validation_dataset = img_data_generator.flow_from_directory(\n",
        "    dataset_test,\n",
        "    shuffle=True,\n",
        "    subset=\"validation\",\n",
        "    target_size=(224,224)\n",
        ")"
      ]
    },
    {
      "cell_type": "code",
      "execution_count": 5,
      "metadata": {
        "id": "59gTa4W1O455"
      },
      "outputs": [],
      "source": [
        "model = tf.keras.models.Sequential([\n",
        "    # stride = number of pixels movement in hovering kernel = گام حرکت\n",
        "    #Feature Extraction\n",
        "    # tf.keras.layers.Conv2D( filters=32 , kernel_size=(3,3) , strides=(2,2) , activation=\"relu\" , padding=\"same\" , input_shape=(224,224,3) ),\n",
        "    tf.keras.layers.Conv2D( filters=64 , kernel_size=(3,3) , strides=(2,2) , activation=\"relu\", padding=\"same\" , input_shape=(224,224,3)),\n",
        "    tf.keras.layers.MaxPooling2D(),\n",
        "    # tf.keras.layers.Conv2D( filters=64 , kernel_size=(3,3) , strides=(2,2) , activation=\"relu\" , padding=\"same\"),\n",
        "    tf.keras.layers.Conv2D( filters=128 , kernel_size=(3,3) , strides=(1,1) , activation=\"relu\", padding=\"same\"),\n",
        "    tf.keras.layers.MaxPooling2D(),\n",
        "    tf.keras.layers.Conv2D( filters=256 , kernel_size=(3,3) , strides=(1,1) , activation=\"relu\", padding=\"same\"),\n",
        "    tf.keras.layers.MaxPooling2D(),\n",
        "\n",
        "\n",
        "    # Feature Array\n",
        "    tf.keras.layers.Flatten(),\n",
        "\n",
        "    #tf.keras.layers.Dense(4096 , activation=\"relu\"),\n",
        "    tf.keras.layers.Dense(512 , activation=\"relu\"),\n",
        "    # tf.keras.layers.Dense(256 , activation=\"relu\"),\n",
        "    tf.keras.layers.Dropout(0.5),\n",
        "    tf.keras.layers.Dense(17    , activation=\"softmax\")\n",
        "    ])"
      ]
    },
    {
      "cell_type": "code",
      "execution_count": 6,
      "metadata": {
        "colab": {
          "base_uri": "https://localhost:8080/"
        },
        "id": "QuxudrzfIrg8",
        "outputId": "4c1830a7-7f1a-47d1-a03f-9b9370774acc"
      },
      "outputs": [
        {
          "name": "stdout",
          "output_type": "stream",
          "text": [
            "Epoch 1/50\n",
            "26/26 [==============================] - 247s 9s/step - loss: 2.8283 - accuracy: 0.0899 - val_loss: 2.5810 - val_accuracy: 0.1231\n",
            "Epoch 2/50\n",
            "26/26 [==============================] - 15s 568ms/step - loss: 2.5121 - accuracy: 0.1312 - val_loss: 2.3284 - val_accuracy: 0.2769\n",
            "Epoch 3/50\n",
            "26/26 [==============================] - 15s 591ms/step - loss: 2.3234 - accuracy: 0.2066 - val_loss: 2.1804 - val_accuracy: 0.2462\n",
            "Epoch 4/50\n",
            "26/26 [==============================] - 15s 594ms/step - loss: 2.1039 - accuracy: 0.2892 - val_loss: 1.9185 - val_accuracy: 0.3077\n",
            "Epoch 5/50\n",
            "26/26 [==============================] - 15s 594ms/step - loss: 1.9176 - accuracy: 0.3621 - val_loss: 1.6750 - val_accuracy: 0.4154\n",
            "Epoch 6/50\n",
            "26/26 [==============================] - 15s 587ms/step - loss: 1.7635 - accuracy: 0.4070 - val_loss: 1.6691 - val_accuracy: 0.4154\n",
            "Epoch 7/50\n",
            "26/26 [==============================] - 15s 590ms/step - loss: 1.6557 - accuracy: 0.4508 - val_loss: 1.6615 - val_accuracy: 0.3385\n",
            "Epoch 8/50\n",
            "26/26 [==============================] - 16s 629ms/step - loss: 1.5779 - accuracy: 0.4617 - val_loss: 1.5992 - val_accuracy: 0.4923\n",
            "Epoch 9/50\n",
            "26/26 [==============================] - 16s 607ms/step - loss: 1.6067 - accuracy: 0.4629 - val_loss: 1.4987 - val_accuracy: 0.4308\n",
            "Epoch 10/50\n",
            "26/26 [==============================] - 16s 616ms/step - loss: 1.4438 - accuracy: 0.5140 - val_loss: 1.3354 - val_accuracy: 0.5538\n",
            "Epoch 11/50\n",
            "26/26 [==============================] - 16s 609ms/step - loss: 1.4298 - accuracy: 0.5188 - val_loss: 1.4798 - val_accuracy: 0.5077\n",
            "Epoch 12/50\n",
            "26/26 [==============================] - 16s 599ms/step - loss: 1.4201 - accuracy: 0.5298 - val_loss: 1.2882 - val_accuracy: 0.5231\n",
            "Epoch 13/50\n",
            "26/26 [==============================] - 15s 586ms/step - loss: 1.2996 - accuracy: 0.5541 - val_loss: 1.2137 - val_accuracy: 0.6154\n",
            "Epoch 14/50\n",
            "26/26 [==============================] - 16s 616ms/step - loss: 1.3221 - accuracy: 0.5614 - val_loss: 1.1878 - val_accuracy: 0.5846\n",
            "Epoch 15/50\n",
            "26/26 [==============================] - 15s 567ms/step - loss: 1.2505 - accuracy: 0.5468 - val_loss: 1.3442 - val_accuracy: 0.5385\n",
            "Epoch 16/50\n",
            "26/26 [==============================] - 15s 569ms/step - loss: 1.2210 - accuracy: 0.5966 - val_loss: 1.1946 - val_accuracy: 0.5692\n",
            "Epoch 17/50\n",
            "26/26 [==============================] - 15s 572ms/step - loss: 1.2004 - accuracy: 0.6002 - val_loss: 1.2300 - val_accuracy: 0.6308\n",
            "Epoch 18/50\n",
            "26/26 [==============================] - 15s 566ms/step - loss: 1.1104 - accuracy: 0.6355 - val_loss: 1.2448 - val_accuracy: 0.6154\n",
            "Epoch 19/50\n",
            "26/26 [==============================] - 15s 569ms/step - loss: 1.0898 - accuracy: 0.6355 - val_loss: 1.1860 - val_accuracy: 0.6000\n",
            "Epoch 20/50\n",
            "26/26 [==============================] - 15s 577ms/step - loss: 0.9907 - accuracy: 0.6416 - val_loss: 1.0398 - val_accuracy: 0.6615\n",
            "Epoch 21/50\n",
            "26/26 [==============================] - 15s 578ms/step - loss: 0.9776 - accuracy: 0.6707 - val_loss: 1.1852 - val_accuracy: 0.6769\n",
            "Epoch 22/50\n",
            "26/26 [==============================] - 15s 560ms/step - loss: 1.0226 - accuracy: 0.6306 - val_loss: 1.1363 - val_accuracy: 0.6308\n",
            "Epoch 23/50\n",
            "26/26 [==============================] - 15s 562ms/step - loss: 0.9426 - accuracy: 0.6744 - val_loss: 0.8544 - val_accuracy: 0.6923\n",
            "Epoch 24/50\n",
            "26/26 [==============================] - 15s 561ms/step - loss: 0.9098 - accuracy: 0.6938 - val_loss: 1.0822 - val_accuracy: 0.6462\n",
            "Epoch 25/50\n",
            "26/26 [==============================] - 15s 565ms/step - loss: 0.8926 - accuracy: 0.7169 - val_loss: 0.8889 - val_accuracy: 0.7077\n",
            "Epoch 26/50\n",
            "26/26 [==============================] - 15s 577ms/step - loss: 0.8828 - accuracy: 0.6792 - val_loss: 1.1205 - val_accuracy: 0.6615\n",
            "Epoch 27/50\n",
            "26/26 [==============================] - 14s 558ms/step - loss: 0.8580 - accuracy: 0.7120 - val_loss: 1.0371 - val_accuracy: 0.6308\n",
            "Epoch 28/50\n",
            "26/26 [==============================] - 15s 562ms/step - loss: 0.8057 - accuracy: 0.7181 - val_loss: 1.0005 - val_accuracy: 0.7231\n",
            "Epoch 29/50\n",
            "26/26 [==============================] - 15s 580ms/step - loss: 0.7913 - accuracy: 0.7205 - val_loss: 1.1941 - val_accuracy: 0.6769\n",
            "Epoch 30/50\n",
            "26/26 [==============================] - 15s 590ms/step - loss: 0.7511 - accuracy: 0.7643 - val_loss: 1.0903 - val_accuracy: 0.7077\n",
            "Epoch 31/50\n",
            "26/26 [==============================] - 15s 575ms/step - loss: 0.7596 - accuracy: 0.7436 - val_loss: 0.9511 - val_accuracy: 0.6615\n",
            "Epoch 32/50\n",
            "26/26 [==============================] - 15s 587ms/step - loss: 0.7451 - accuracy: 0.7327 - val_loss: 0.9248 - val_accuracy: 0.6769\n",
            "Epoch 33/50\n",
            "26/26 [==============================] - 15s 562ms/step - loss: 0.7449 - accuracy: 0.7497 - val_loss: 1.0529 - val_accuracy: 0.6769\n",
            "Epoch 34/50\n",
            "26/26 [==============================] - 15s 570ms/step - loss: 0.7201 - accuracy: 0.7497 - val_loss: 1.0416 - val_accuracy: 0.6923\n",
            "Epoch 35/50\n",
            "26/26 [==============================] - 15s 574ms/step - loss: 0.6917 - accuracy: 0.7886 - val_loss: 1.0571 - val_accuracy: 0.6308\n",
            "Epoch 36/50\n",
            "26/26 [==============================] - 14s 560ms/step - loss: 0.6222 - accuracy: 0.7898 - val_loss: 1.1919 - val_accuracy: 0.6308\n",
            "Epoch 37/50\n",
            "26/26 [==============================] - 15s 563ms/step - loss: 0.6286 - accuracy: 0.7849 - val_loss: 1.0461 - val_accuracy: 0.7231\n",
            "Epoch 38/50\n",
            "26/26 [==============================] - 15s 580ms/step - loss: 0.6107 - accuracy: 0.7910 - val_loss: 1.3203 - val_accuracy: 0.7077\n",
            "Epoch 39/50\n",
            "26/26 [==============================] - 15s 563ms/step - loss: 0.5901 - accuracy: 0.7849 - val_loss: 1.1690 - val_accuracy: 0.6769\n",
            "Epoch 40/50\n",
            "26/26 [==============================] - 15s 563ms/step - loss: 0.5687 - accuracy: 0.8056 - val_loss: 0.7095 - val_accuracy: 0.8308\n",
            "Epoch 41/50\n",
            "26/26 [==============================] - 15s 561ms/step - loss: 0.6248 - accuracy: 0.7922 - val_loss: 0.8383 - val_accuracy: 0.7385\n",
            "Epoch 42/50\n",
            "26/26 [==============================] - 14s 558ms/step - loss: 0.5596 - accuracy: 0.8104 - val_loss: 0.7506 - val_accuracy: 0.7385\n",
            "Epoch 43/50\n",
            "26/26 [==============================] - 14s 559ms/step - loss: 0.5824 - accuracy: 0.8117 - val_loss: 0.9610 - val_accuracy: 0.6769\n",
            "Epoch 44/50\n",
            "26/26 [==============================] - 14s 557ms/step - loss: 0.5082 - accuracy: 0.8311 - val_loss: 0.8507 - val_accuracy: 0.7538\n",
            "Epoch 45/50\n",
            "26/26 [==============================] - 14s 554ms/step - loss: 0.4852 - accuracy: 0.8420 - val_loss: 0.8768 - val_accuracy: 0.7692\n",
            "Epoch 46/50\n",
            "26/26 [==============================] - 14s 557ms/step - loss: 0.5076 - accuracy: 0.8238 - val_loss: 0.8927 - val_accuracy: 0.7231\n",
            "Epoch 47/50\n",
            "26/26 [==============================] - 15s 563ms/step - loss: 0.5280 - accuracy: 0.8177 - val_loss: 0.7872 - val_accuracy: 0.7077\n",
            "Epoch 48/50\n",
            "26/26 [==============================] - 14s 558ms/step - loss: 0.4804 - accuracy: 0.8396 - val_loss: 0.9194 - val_accuracy: 0.7538\n",
            "Epoch 49/50\n",
            "26/26 [==============================] - 15s 562ms/step - loss: 0.4428 - accuracy: 0.8481 - val_loss: 1.1833 - val_accuracy: 0.7077\n",
            "Epoch 50/50\n",
            "26/26 [==============================] - 15s 567ms/step - loss: 0.4208 - accuracy: 0.8481 - val_loss: 0.8456 - val_accuracy: 0.7692\n"
          ]
        }
      ],
      "source": [
        "model.compile(optimizer= tf.keras.optimizers.Nadam() , loss= tf.keras.losses.categorical_crossentropy , metrics=\"accuracy\")\n",
        "\n",
        "# train_dataset contains x_train & y_train\n",
        "history = model.fit(train_dataset , validation_data=validation_dataset , epochs=50 )\n",
        "# train and evaluation in parallel mode\n",
        "\n"
      ]
    },
    {
      "cell_type": "code",
      "execution_count": 7,
      "metadata": {
        "colab": {
          "base_uri": "https://localhost:8080/",
          "height": 449
        },
        "id": "qEmj2SnGulK1",
        "outputId": "b4ed27a9-6dc7-4bba-e488-d1e2b6a5db63"
      },
      "outputs": [
        {
          "data": {
            "image/png": "[encoded data removed]",
            "text/plain": [
              "<Figure size 640x480 with 1 Axes>"
            ]
          },
          "metadata": {},
          "output_type": "display_data"
        }
      ],
      "source": [
        "plt.plot(history.history[\"accuracy\"])\n",
        "plt.plot(history.history[\"loss\"])\n",
        "plt.plot(history.history[\"val_accuracy\"])\n",
        "plt.plot(history.history[\"val_loss\"])\n",
        "plt.legend([\"accuracy\",\"loss\" , \"val_accuracy\" , \"val_loss\"])\n",
        "plt.xlabel(\"Epoch\")\n",
        "plt.ylabel(\"value\")\n",
        "plt.show()"
      ]
    },
    {
      "cell_type": "code",
      "execution_count": 8,
      "metadata": {
        "colab": {
          "base_uri": "https://localhost:8080/"
        },
        "id": "XTFcEKD1bG35",
        "outputId": "d514c987-0ee8-4045-9b69-b6bb5fe6f126"
      },
      "outputs": [
        {
          "name": "stderr",
          "output_type": "stream",
          "text": [
            "/usr/local/lib/python3.10/dist-packages/keras/src/engine/training.py:3000: UserWarning: You are saving your model as an HDF5 file via `model.save()`. This file format is considered legacy. We recommend using instead the native Keras format, e.g. `model.save('my_model.keras')`.\n",
            "  saving_api.save_model(\n"
          ]
        }
      ],
      "source": [
        "model.save(\"/content/weights.h5\")\n",
        "model.save(\"/content/weights.keras\")\n"
      ]
    },
    {
      "cell_type": "code",
      "execution_count": 82,
      "metadata": {
        "colab": {
          "base_uri": "https://localhost:8080/"
        },
        "id": "VQwZsb_fQmDm",
        "outputId": "70e782b8-2802-4fb5-9ac3-fef331f044a8"
      },
      "outputs": [
        {
          "name": "stdout",
          "output_type": "stream",
          "text": [
            "3/3 [==============================] - 2s 403ms/step - loss: 0.7803 - accuracy: 0.7692\n"
          ]
        },
        {
          "data": {
            "text/plain": [
              "(0.7803226113319397, 0.7692307829856873)"
            ]
          },
          "execution_count": 82,
          "metadata": {},
          "output_type": "execute_result"
        }
      ],
      "source": [
        "loss , accuracy = model.evaluate(validation_dataset)\n",
        "loss , accuracy"
      ]
    },
    {
      "cell_type": "code",
      "execution_count": 83,
      "metadata": {
        "colab": {
          "base_uri": "https://localhost:8080/"
        },
        "id": "oximcgd0xaJU",
        "outputId": "12501d44-9540-465e-b68c-b2b6a1004082"
      },
      "outputs": [
        {
          "name": "stdout",
          "output_type": "stream",
          "text": [
            "3/3 [==============================] - 1s 234ms/step\n"
          ]
        }
      ],
      "source": [
        "ypred = model.predict(validation_dataset)\n"
      ]
    },
    {
      "cell_type": "code",
      "execution_count": 84,
      "metadata": {
        "colab": {
          "base_uri": "https://localhost:8080/"
        },
        "id": "q0Tvwo0Z7YZA",
        "outputId": "cbc3ae26-df77-4617-9b61-76612de08512"
      },
      "outputs": [
        {
          "data": {
            "text/plain": [
              "(65, 17)"
            ]
          },
          "execution_count": 84,
          "metadata": {},
          "output_type": "execute_result"
        }
      ],
      "source": [
        "ypred.shape"
      ]
    },
    {
      "cell_type": "code",
      "execution_count": 85,
      "metadata": {
        "colab": {
          "base_uri": "https://localhost:8080/"
        },
        "id": "2DcwGTNU67mV",
        "outputId": "d65d45e6-5f2f-49e8-c90a-814a2479db1f"
      },
      "outputs": [
        {
          "data": {
            "text/plain": [
              "array([ 3,  9, 16,  6,  9,  9,  9, 11,  6,  8,  1, 16,  9,  5,  1, 16,  9,\n",
              "        9,  3,  6,  9,  2,  5,  5, 11,  7,  9,  1,  1,  7,  5,  5, 13,  2,\n",
              "       10, 10,  1, 16,  7, 11, 13, 15, 14,  2,  1, 15,  7, 14, 16,  1, 15,\n",
              "        7, 16, 12,  8, 11, 11,  4,  6,  3, 13,  9, 16,  8,  3])"
            ]
          },
          "execution_count": 85,
          "metadata": {},
          "output_type": "execute_result"
        }
      ],
      "source": [
        "ypred_list = []\n",
        "for i in range(65) :\n",
        "    ypred_list.append(np.argmax(ypred[i]))\n",
        "np.array(ypred_list)\n"
      ]
    },
    {
      "cell_type": "code",
      "execution_count": 86,
      "metadata": {
        "colab": {
          "base_uri": "https://localhost:8080/"
        },
        "id": "_1GzVohSydMy",
        "outputId": "d03c0aff-7331-453a-cba7-19b3e4335b45"
      },
      "outputs": [
        {
          "data": {
            "text/plain": [
              "array([ 0,  0,  0,  0,  1,  1,  1,  1,  2,  2,  2,  2,  3,  3,  3,  3,  4,\n",
              "        4,  4,  4,  5,  5,  5,  5,  6,  6,  6,  6,  7,  7,  7,  7,  8,  8,\n",
              "        8,  8,  9,  9,  9,  9, 10, 10, 10, 10, 11, 11, 11, 11, 12, 12, 12,\n",
              "       13, 13, 13, 14, 14, 14, 14, 15, 15, 15, 15, 16, 16, 16],\n",
              "      dtype=int32)"
            ]
          },
          "execution_count": 86,
          "metadata": {},
          "output_type": "execute_result"
        }
      ],
      "source": [
        "validation_dataset.labels"
      ]
    },
    {
      "cell_type": "code",
      "execution_count": null,
      "metadata": {
        "colab": {
          "base_uri": "https://localhost:8080/"
        },
        "id": "ldT9eoplL5C3",
        "outputId": "d8c5bff0-ff64-4105-d9e1-8cfe7c6d18b2"
      },
      "outputs": [],
      "source": [
        "images,labels = validation_dataset[0]\n",
        "ypred_list = []\n",
        "for image in images:\n",
        "    image = np.expand_dims(image, axis=0)\n",
        "    ypred=model.predict(image)\n",
        "    ypred_list.append(np.argmax(ypred))\n"
      ]
    },
    {
      "cell_type": "code",
      "execution_count": 88,
      "metadata": {
        "colab": {
          "base_uri": "https://localhost:8080/"
        },
        "id": "kl0HL4SuWKrD",
        "outputId": "156fb948-28ca-4f32-bc89-1b9c4c8a09cd"
      },
      "outputs": [
        {
          "data": {
            "text/plain": [
              "32"
            ]
          },
          "execution_count": 88,
          "metadata": {},
          "output_type": "execute_result"
        }
      ],
      "source": [
        "validation_dataset.batch_size"
      ]
    },
    {
      "cell_type": "code",
      "execution_count": 89,
      "metadata": {
        "colab": {
          "base_uri": "https://localhost:8080/"
        },
        "id": "m0iUVlQNL8RV",
        "outputId": "02405ae0-4063-41c3-a794-4f3c0ee3f61d"
      },
      "outputs": [
        {
          "data": {
            "text/plain": [
              "array([ 8,  6, 13, 14, 10,  0,  8,  8,  7, 14, 11, 12,  3, 16,  0, 10, 16,\n",
              "        1, 16,  6, 13,  5,  1,  3, 15, 15,  9,  7,  1, 14, 11,  8])"
            ]
          },
          "execution_count": 89,
          "metadata": {},
          "output_type": "execute_result"
        }
      ],
      "source": [
        "ytrue_list = []\n",
        "for label in labels:\n",
        "    ytrue_list.append(np.argmax(label))\n",
        "np.array(ytrue_list)"
      ]
    },
    {
      "cell_type": "code",
      "execution_count": 90,
      "metadata": {
        "colab": {
          "base_uri": "https://localhost:8080/"
        },
        "id": "GkTnKUgpWRVc",
        "outputId": "b7930640-f39a-49e2-f8fe-510eb332bc66"
      },
      "outputs": [
        {
          "data": {
            "text/plain": [
              "(32,)"
            ]
          },
          "execution_count": 90,
          "metadata": {},
          "output_type": "execute_result"
        }
      ],
      "source": [
        "np.array(ytrue_list).shape"
      ]
    },
    {
      "cell_type": "code",
      "execution_count": 91,
      "metadata": {
        "colab": {
          "base_uri": "https://localhost:8080/"
        },
        "id": "Wd1f0OM_U8xL",
        "outputId": "a3804241-1caf-43db-853f-321f8c1d3a2e"
      },
      "outputs": [
        {
          "data": {
            "text/plain": [
              "array([ 9,  6, 13, 14, 12,  4,  8,  8,  7, 14,  1, 12, 12, 16,  0, 12, 16,\n",
              "        1, 16,  6, 13,  5,  1,  3, 15,  5,  9,  7,  1, 14, 11,  8])"
            ]
          },
          "execution_count": 91,
          "metadata": {},
          "output_type": "execute_result"
        }
      ],
      "source": [
        "np.array(ypred_list)"
      ]
    },
    {
      "cell_type": "code",
      "execution_count": 92,
      "metadata": {
        "colab": {
          "base_uri": "https://localhost:8080/"
        },
        "id": "Co54g_46vKLd",
        "outputId": "a44b9362-485a-46cf-873c-615ba39828ec"
      },
      "outputs": [
        {
          "data": {
            "text/plain": [
              "array([[1, 0, 0, 1, 0, 0, 0, 0, 0, 0, 0, 0, 0, 0, 0, 0],\n",
              "       [0, 3, 0, 0, 0, 0, 0, 0, 0, 0, 0, 0, 0, 0, 0, 0],\n",
              "       [0, 0, 1, 0, 0, 0, 0, 0, 0, 0, 0, 1, 0, 0, 0, 0],\n",
              "       [0, 0, 0, 0, 0, 0, 0, 0, 0, 0, 0, 0, 0, 0, 0, 0],\n",
              "       [0, 0, 0, 0, 1, 0, 0, 0, 0, 0, 0, 0, 0, 0, 0, 0],\n",
              "       [0, 0, 0, 0, 0, 2, 0, 0, 0, 0, 0, 0, 0, 0, 0, 0],\n",
              "       [0, 0, 0, 0, 0, 0, 2, 0, 0, 0, 0, 0, 0, 0, 0, 0],\n",
              "       [0, 0, 0, 0, 0, 0, 0, 3, 1, 0, 0, 0, 0, 0, 0, 0],\n",
              "       [0, 0, 0, 0, 0, 0, 0, 0, 1, 0, 0, 0, 0, 0, 0, 0],\n",
              "       [0, 0, 0, 0, 0, 0, 0, 0, 0, 0, 0, 2, 0, 0, 0, 0],\n",
              "       [0, 1, 0, 0, 0, 0, 0, 0, 0, 0, 1, 0, 0, 0, 0, 0],\n",
              "       [0, 0, 0, 0, 0, 0, 0, 0, 0, 0, 0, 1, 0, 0, 0, 0],\n",
              "       [0, 0, 0, 0, 0, 0, 0, 0, 0, 0, 0, 0, 2, 0, 0, 0],\n",
              "       [0, 0, 0, 0, 0, 0, 0, 0, 0, 0, 0, 0, 0, 3, 0, 0],\n",
              "       [0, 0, 0, 0, 1, 0, 0, 0, 0, 0, 0, 0, 0, 0, 1, 0],\n",
              "       [0, 0, 0, 0, 0, 0, 0, 0, 0, 0, 0, 0, 0, 0, 0, 3]])"
            ]
          },
          "execution_count": 92,
          "metadata": {},
          "output_type": "execute_result"
        }
      ],
      "source": [
        "confm = confusion_matrix(y_true= ytrue_list , y_pred= ypred_list )\n",
        "confm"
      ]
    },
    {
      "cell_type": "code",
      "execution_count": 93,
      "metadata": {
        "colab": {
          "base_uri": "https://localhost:8080/",
          "height": 459
        },
        "id": "Nrj0cnCG3lpc",
        "outputId": "13c1938f-7fcb-4eda-b113-7642d8329b28"
      },
      "outputs": [
        {
          "data": {
            "image/png": "[encoded data removed]",
            "text/plain": [
              "<Figure size 640x480 with 2 Axes>"
            ]
          },
          "metadata": {},
          "output_type": "display_data"
        }
      ],
      "source": [
        "cm_display = ConfusionMatrixDisplay(confusion_matrix = confm )\n",
        "cm_display.plot(cmap=plt.cm.Oranges , xticks_rotation=\"vertical\")\n",
        "plt.show()"
      ]
    },
    {
      "cell_type": "markdown",
      "metadata": {
        "id": "EMc25qMoUAYK"
      },
      "source": [
        "## Inference"
      ]
    },
    {
      "cell_type": "code",
      "execution_count": null,
      "metadata": {
        "id": "yVDH_Ddjo5Dl"
      },
      "outputs": [],
      "source": [
        "from PIL import Image\n",
        "import matplotlib.pyplot as plt\n",
        "import cv2\n",
        "import numpy as np\n",
        "image = Image.open(\"/content/cu.jpg\")\n",
        "new_image = image.resize((224,224))\n",
        "new_image.save(\"/content/image.jpg\")\n",
        "plt.imshow(new_image)"
      ]
    },
    {
      "cell_type": "code",
      "execution_count": null,
      "metadata": {
        "id": "JBJGmZg5T-ub"
      },
      "outputs": [],
      "source": [
        "new_image = cv2.imread(\"/content/image.jpg\" , 0)\n",
        "new_image = cv2.cvtColor(new_image , cv2.COLOR_BGR2RGB)\n",
        "print(new_image.shape)\n",
        "img = np.reshape(new_image, [1, 224, 224, 3])\n",
        "print(img.shape)\n",
        "output = model.predict(img)\n",
        "\n",
        "predicted_class = np.argmax(output)\n",
        "print(predicted_class)\n",
        "print(train_dataset.class_indices)\n",
        "print(np.argmax(output))\n",
        "mylist = list(train_dataset.class_indices)\n",
        "print(\"predicted label : \" , mylist[np.argmax(output)])\n"
      ]
    },
    {
      "cell_type": "code",
      "execution_count": null,
      "metadata": {
        "id": "3DdyfKGrroxs"
      },
      "outputs": [],
      "source": [
        "from keras.preprocessing.image import load_img\n",
        "from keras.preprocessing.image import img_to_array\n",
        "from keras.models import load_model\n",
        "\n",
        "model = load_model(\"/content/weights.keras\")\n",
        "output = model.predict(img)\n",
        "\n",
        "predicted_class = np.argmax(output)\n",
        "# print(output)\n",
        "print(predicted_class)\n",
        "print(train_dataset.class_indices)\n",
        "# print(train_dataset.classes)\n",
        "print(np.argmax(output))\n",
        "mylist = list(train_dataset.class_indices)\n",
        "print(\"predicted label : \" , mylist[np.argmax(output)])\n"
      ]
    },
    {
      "cell_type": "code",
      "execution_count": null,
      "metadata": {
        "id": "dg80Q23qiLi7"
      },
      "outputs": [],
      "source": [
        "!pip install pyTelegramBotAPI\n",
        "!pip install telegram\n",
        "!pip install git+https://github.com/eternnoir/pyTelegramBotAPI.git\n",
        "!pip install pytesseract"
      ]
    },
    {
      "cell_type": "code",
      "execution_count": null,
      "metadata": {
        "id": "PbE6lUrviPz2"
      },
      "outputs": [],
      "source": [
        "import telebot\n",
        "load_dotenv()\n",
        "token = os.getenv('TOKEN')\n",
        "bot = telebot.TeleBot(token)\n",
        "from telebot import types\n",
        "from telegram import *\n",
        "import telebot\n",
        "import pytesseract\n",
        "from keras.models import load_model\n",
        "from tensorflow.keras import layers\n",
        "from tensorflow.keras import models\n",
        "from PIL import Image\n",
        "import numpy as np\n",
        "from keras.preprocessing.image import load_img\n",
        "from keras.preprocessing.image import img_to_array\n",
        "from keras.applications.vgg16 import preprocess_input\n",
        "\n",
        "\n",
        "model = load_model(\"/content/weights.keras\")\n",
        "\n",
        "\n",
        "@bot.message_handler(commands=['start']) #decorator\n",
        "def send_welcome(message):\n",
        "\n",
        "  bot.send_message(message.chat.id , \"🌼 Hi Dear \" + message.from_user.first_name +\"🌼\"+ \"\\nWelcome to Flower Recognition bot \")\n",
        "  FL_recognizer(message)\n",
        "\n",
        "\n",
        "counter = 0\n",
        "@bot.message_handler()\n",
        "def FL_recognizer(message):\n",
        "    global counter\n",
        "    if counter == 0 :\n",
        "      initial_message = bot.send_message(message.chat.id, \"Upload a Flower image 🔄 ... \" + \"\\nAnd wait for it's Name \" )\n",
        "      bot.register_next_step_handler(initial_message , flower_recognizer)\n",
        "      counter += 1\n",
        "    elif counter != 0 :\n",
        "      initial_message = bot.send_message(message.chat.id, \"Do you still want to continue ?😃 \\nSo Upload another image 🔄🌸🌻 ... \" )\n",
        "      bot.register_next_step_handler(initial_message , flower_recognizer)\n",
        "def flower_recognizer(message):\n",
        "\t  # Get file id\n",
        "    file_id = message.photo[-1].file_id\n",
        "    # Get file path\n",
        "    file_path = bot.get_file(file_id).file_path\n",
        "    # Download file\n",
        "    downloaded_file = bot.download_file(file_path)\n",
        "    # Save file\n",
        "    try:\n",
        "        with open(\"image.jpg\", 'wb') as new_file:\n",
        "            new_file.write(downloaded_file)\n",
        "    except Exception as e:\n",
        "        bot.reply_to(message, \"Error saving file.\")\n",
        "        return\n",
        "\n",
        "    # Open image\n",
        "    try:\n",
        "        image = Image.open(\"image.jpg\")\n",
        "    except Exception as e:\n",
        "        bot.reply_to(message, \"Error opening file.\")\n",
        "        return\n",
        "\n",
        "    # Get text from image\n",
        "    #bot.send_photo(chat_id=message.chat.id, photo=image)\n",
        "    # file = context.bot.get_file(update.message.document.file_id)\n",
        "\n",
        "\n",
        "    image = load_img(\"image.jpg\" , target_size=(224, 224))\n",
        "    image = img_to_array(image)\n",
        "    image = image.reshape((1, image.shape[0], image.shape[1], image.shape[2]))\n",
        "    image = preprocess_input(image)\n",
        "    output = model.predict(image)\n",
        "    predicted_class = np.argmax(output)\n",
        "    print(predicted_class)\n",
        "    mylist = list(train_dataset.class_indices)\n",
        "    print(\"predicted label : \" , mylist[np.argmax(output)])\n",
        "    bot.send_message(message.chat.id,  mylist[np.argmax(output)])\n",
        "    FL_recognizer(message)\n"
      ]
    },
    {
      "cell_type": "code",
      "execution_count": null,
      "metadata": {
        "id": "gnR6M7mKiUif"
      },
      "outputs": [],
      "source": [
        "bot.infinity_polling()"
      ]
    }
  ],
  "metadata": {
    "accelerator": "GPU",
    "colab": {
      "gpuType": "T4",
      "provenance": []
    },
    "kernelspec": {
      "display_name": "Python 3",
      "name": "python3"
    },
    "language_info": {
      "name": "python"
    }
  },
  "nbformat": 4,
  "nbformat_minor": 0
}
